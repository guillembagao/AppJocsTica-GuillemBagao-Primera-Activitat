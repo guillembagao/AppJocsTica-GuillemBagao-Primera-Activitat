{
 "cells": [
  {
   "cell_type": "code",
   "execution_count": null,
   "id": "7a4a6990",
   "metadata": {},
   "outputs": [],
   "source": []
  },
  {
   "cell_type": "markdown",
   "id": "b500068b",
   "metadata": {},
   "source": [
    "Exercici 1:Enters"
   ]
  },
  {
   "cell_type": "code",
   "execution_count": 3,
   "id": "213913fd",
   "metadata": {},
   "outputs": [],
   "source": [
    "preu_entrada= 8.35"
   ]
  },
  {
   "cell_type": "code",
   "execution_count": 4,
   "id": "f8838fd5",
   "metadata": {},
   "outputs": [],
   "source": [
    "nombre_entrades= 1"
   ]
  },
  {
   "cell_type": "code",
   "execution_count": 5,
   "id": "93cf9c73",
   "metadata": {},
   "outputs": [],
   "source": [
    "cost_total=(preu_entrada)*(nombre_entrades)"
   ]
  },
  {
   "cell_type": "code",
   "execution_count": 6,
   "id": "b2f43da1",
   "metadata": {},
   "outputs": [
    {
     "data": {
      "text/plain": [
       "8.35"
      ]
     },
     "execution_count": 6,
     "metadata": {},
     "output_type": "execute_result"
    }
   ],
   "source": [
    "cost_total"
   ]
  },
  {
   "cell_type": "code",
   "execution_count": 7,
   "id": "c4aa9c8c",
   "metadata": {},
   "outputs": [],
   "source": [
    "nombre_entrades= 5\n"
   ]
  },
  {
   "cell_type": "code",
   "execution_count": 8,
   "id": "f170eb06",
   "metadata": {},
   "outputs": [],
   "source": [
    "cost_total=(preu_entrada)*(nombre_entrades)"
   ]
  },
  {
   "cell_type": "code",
   "execution_count": 9,
   "id": "16a46987",
   "metadata": {},
   "outputs": [
    {
     "data": {
      "text/plain": [
       "41.75"
      ]
     },
     "execution_count": 9,
     "metadata": {},
     "output_type": "execute_result"
    }
   ],
   "source": [
    "cost_total"
   ]
  },
  {
   "cell_type": "code",
   "execution_count": 10,
   "id": "5fe8d7dc",
   "metadata": {},
   "outputs": [],
   "source": [
    "nombre_entrades=354"
   ]
  },
  {
   "cell_type": "code",
   "execution_count": 11,
   "id": "30d999cb",
   "metadata": {},
   "outputs": [],
   "source": [
    "cost_total=(preu_entrada)*(nombre_entrades)"
   ]
  },
  {
   "cell_type": "code",
   "execution_count": 12,
   "id": "05292c9e",
   "metadata": {},
   "outputs": [
    {
     "data": {
      "text/plain": [
       "2955.9"
      ]
     },
     "execution_count": 12,
     "metadata": {},
     "output_type": "execute_result"
    }
   ],
   "source": [
    "cost_total"
   ]
  },
  {
   "cell_type": "code",
   "execution_count": 18,
   "id": "9a34e76a",
   "metadata": {},
   "outputs": [],
   "source": [
    "nombre_entrades_retornades=4"
   ]
  },
  {
   "cell_type": "code",
   "execution_count": 19,
   "id": "830e1f39",
   "metadata": {},
   "outputs": [
    {
     "data": {
      "text/plain": [
       "4"
      ]
     },
     "execution_count": 19,
     "metadata": {},
     "output_type": "execute_result"
    }
   ],
   "source": [
    "nombre_entrades_retornades"
   ]
  },
  {
   "cell_type": "code",
   "execution_count": 31,
   "id": "4180a44f",
   "metadata": {},
   "outputs": [],
   "source": [
    "percentatge=(preu_entrada*88/100)"
   ]
  },
  {
   "cell_type": "code",
   "execution_count": 36,
   "id": "8efaeb6a",
   "metadata": {},
   "outputs": [],
   "source": [
    "nombre_entrades=10"
   ]
  },
  {
   "cell_type": "code",
   "execution_count": 39,
   "id": "d7337ab7",
   "metadata": {},
   "outputs": [],
   "source": [
    "cost_total=(nombre_entrades*preu_entrada)-(nombre_entrades_retornades*percentatge)"
   ]
  },
  {
   "cell_type": "code",
   "execution_count": 25,
   "id": "ab53afb6",
   "metadata": {},
   "outputs": [
    {
     "data": {
      "text/plain": [
       "1.0248"
      ]
     },
     "execution_count": 25,
     "metadata": {},
     "output_type": "execute_result"
    }
   ],
   "source": [
    "percentatge"
   ]
  },
  {
   "cell_type": "code",
   "execution_count": 40,
   "id": "af1237ff",
   "metadata": {},
   "outputs": [
    {
     "data": {
      "text/plain": [
       "54.108000000000004"
      ]
     },
     "execution_count": 40,
     "metadata": {},
     "output_type": "execute_result"
    }
   ],
   "source": [
    "cost_total"
   ]
  },
  {
   "cell_type": "markdown",
   "id": "ba75c9ba",
   "metadata": {},
   "source": [
    "Exercici 2"
   ]
  },
  {
   "cell_type": "code",
   "execution_count": 30,
   "id": "378afbf8",
   "metadata": {},
   "outputs": [],
   "source": [
    "infectats_inicials=10"
   ]
  },
  {
   "cell_type": "code",
   "execution_count": 33,
   "id": "c36b9175",
   "metadata": {},
   "outputs": [],
   "source": [
    "Poblacio=1000"
   ]
  },
  {
   "cell_type": "code",
   "execution_count": 34,
   "id": "7e000941",
   "metadata": {},
   "outputs": [],
   "source": [
    "taxa_contagi=0.01"
   ]
  },
  {
   "cell_type": "code",
   "execution_count": 35,
   "id": "e9bbb948",
   "metadata": {},
   "outputs": [],
   "source": [
    "dies=5"
   ]
  },
  {
   "cell_type": "code",
   "execution_count": 43,
   "id": "c54b6b5f",
   "metadata": {},
   "outputs": [],
   "source": [
    "infectats_totals=infectats_inicials+(Poblacio-infectats_inicials)*(1-(1-taxa_contagi)**5)"
   ]
  },
  {
   "cell_type": "code",
   "execution_count": 44,
   "id": "f07b7e7e",
   "metadata": {},
   "outputs": [
    {
     "data": {
      "text/plain": [
       "58.51985059900009"
      ]
     },
     "execution_count": 44,
     "metadata": {},
     "output_type": "execute_result"
    }
   ],
   "source": [
    "infectats_totals"
   ]
  },
  {
   "cell_type": "markdown",
   "id": "143f4487",
   "metadata": {},
   "source": [
    "Exercici 3"
   ]
  },
  {
   "cell_type": "code",
   "execution_count": 93,
   "id": "85d17d7b",
   "metadata": {},
   "outputs": [],
   "source": [
    "r=1"
   ]
  },
  {
   "cell_type": "code",
   "execution_count": 94,
   "id": "fa19df29",
   "metadata": {},
   "outputs": [],
   "source": [
    "import math"
   ]
  },
  {
   "cell_type": "code",
   "execution_count": 95,
   "id": "45faa800",
   "metadata": {},
   "outputs": [],
   "source": [
    "P1=2*math.pi*r"
   ]
  },
  {
   "cell_type": "code",
   "execution_count": 96,
   "id": "cc1c020f",
   "metadata": {},
   "outputs": [
    {
     "data": {
      "text/plain": [
       "6.283185307179586"
      ]
     },
     "execution_count": 96,
     "metadata": {},
     "output_type": "execute_result"
    }
   ],
   "source": [
    "P1"
   ]
  },
  {
   "cell_type": "code",
   "execution_count": 97,
   "id": "d0f30a0c",
   "metadata": {},
   "outputs": [
    {
     "data": {
      "text/plain": [
       "6.28"
      ]
     },
     "execution_count": 97,
     "metadata": {},
     "output_type": "execute_result"
    }
   ],
   "source": [
    "round(P1,2)"
   ]
  },
  {
   "cell_type": "code",
   "execution_count": 98,
   "id": "b5a28486",
   "metadata": {},
   "outputs": [],
   "source": [
    "r=2"
   ]
  },
  {
   "cell_type": "code",
   "execution_count": 99,
   "id": "230ddc9b",
   "metadata": {},
   "outputs": [],
   "source": [
    "P2=2*math.pi*r"
   ]
  },
  {
   "cell_type": "code",
   "execution_count": 100,
   "id": "0a1eb582",
   "metadata": {},
   "outputs": [
    {
     "data": {
      "text/plain": [
       "12.566370614359172"
      ]
     },
     "execution_count": 100,
     "metadata": {},
     "output_type": "execute_result"
    }
   ],
   "source": [
    "P2"
   ]
  },
  {
   "cell_type": "code",
   "execution_count": 101,
   "id": "76f7778b",
   "metadata": {},
   "outputs": [
    {
     "data": {
      "text/plain": [
       "12.57"
      ]
     },
     "execution_count": 101,
     "metadata": {},
     "output_type": "execute_result"
    }
   ],
   "source": [
    "round(P2,2)"
   ]
  },
  {
   "cell_type": "code",
   "execution_count": 102,
   "id": "ef6999b1",
   "metadata": {},
   "outputs": [],
   "source": [
    "r=1"
   ]
  },
  {
   "cell_type": "code",
   "execution_count": 103,
   "id": "40fd70a9",
   "metadata": {},
   "outputs": [],
   "source": [
    "A1=math.pi*r**2"
   ]
  },
  {
   "cell_type": "code",
   "execution_count": 104,
   "id": "e4edc3af",
   "metadata": {},
   "outputs": [
    {
     "data": {
      "text/plain": [
       "3.141592653589793"
      ]
     },
     "execution_count": 104,
     "metadata": {},
     "output_type": "execute_result"
    }
   ],
   "source": [
    "A1"
   ]
  },
  {
   "cell_type": "code",
   "execution_count": 105,
   "id": "ccda8b4f",
   "metadata": {},
   "outputs": [
    {
     "data": {
      "text/plain": [
       "3.14"
      ]
     },
     "execution_count": 105,
     "metadata": {},
     "output_type": "execute_result"
    }
   ],
   "source": [
    "round(A1,2)"
   ]
  },
  {
   "cell_type": "code",
   "execution_count": 106,
   "id": "8ca39a5d",
   "metadata": {},
   "outputs": [],
   "source": [
    "r=2"
   ]
  },
  {
   "cell_type": "code",
   "execution_count": 107,
   "id": "e8cc7add",
   "metadata": {},
   "outputs": [],
   "source": [
    "A2=math.pi*r**2"
   ]
  },
  {
   "cell_type": "code",
   "execution_count": 108,
   "id": "e1cf4a8a",
   "metadata": {},
   "outputs": [
    {
     "data": {
      "text/plain": [
       "12.566370614359172"
      ]
     },
     "execution_count": 108,
     "metadata": {},
     "output_type": "execute_result"
    }
   ],
   "source": [
    "A2"
   ]
  },
  {
   "cell_type": "code",
   "execution_count": 109,
   "id": "26367b50",
   "metadata": {},
   "outputs": [],
   "source": [
    "r=1"
   ]
  },
  {
   "cell_type": "code",
   "execution_count": 110,
   "id": "1ac5a3d7",
   "metadata": {},
   "outputs": [],
   "source": [
    "V1=(4/3)*math.pi*r**3"
   ]
  },
  {
   "cell_type": "code",
   "execution_count": 111,
   "id": "fade1758",
   "metadata": {},
   "outputs": [
    {
     "data": {
      "text/plain": [
       "4.1887902047863905"
      ]
     },
     "execution_count": 111,
     "metadata": {},
     "output_type": "execute_result"
    }
   ],
   "source": [
    "V1"
   ]
  },
  {
   "cell_type": "code",
   "execution_count": 112,
   "id": "6ec0fc51",
   "metadata": {},
   "outputs": [
    {
     "data": {
      "text/plain": [
       "4.19"
      ]
     },
     "execution_count": 112,
     "metadata": {},
     "output_type": "execute_result"
    }
   ],
   "source": [
    "round(V1,2)"
   ]
  },
  {
   "cell_type": "code",
   "execution_count": 113,
   "id": "c1ab99ac",
   "metadata": {},
   "outputs": [],
   "source": [
    "r=2"
   ]
  },
  {
   "cell_type": "code",
   "execution_count": 114,
   "id": "0aedf858",
   "metadata": {},
   "outputs": [],
   "source": [
    "V=(4/3)*math.pi*r**3"
   ]
  },
  {
   "cell_type": "code",
   "execution_count": 115,
   "id": "46b2beaf",
   "metadata": {},
   "outputs": [
    {
     "data": {
      "text/plain": [
       "33.510321638291124"
      ]
     },
     "execution_count": 115,
     "metadata": {},
     "output_type": "execute_result"
    }
   ],
   "source": [
    "V"
   ]
  },
  {
   "cell_type": "code",
   "execution_count": 117,
   "id": "bb5aeb90",
   "metadata": {},
   "outputs": [
    {
     "data": {
      "text/plain": [
       "33.51"
      ]
     },
     "execution_count": 117,
     "metadata": {},
     "output_type": "execute_result"
    }
   ],
   "source": [
    "round(V,2)"
   ]
  },
  {
   "cell_type": "code",
   "execution_count": null,
   "id": "622eeade",
   "metadata": {},
   "outputs": [],
   "source": [
    "print(Pel radi{r})"
   ]
  },
  {
   "cell_type": "markdown",
   "id": "1ca29579",
   "metadata": {},
   "source": [
    "Exercici 4"
   ]
  },
  {
   "cell_type": "code",
   "execution_count": 152,
   "id": "1f9f3087",
   "metadata": {},
   "outputs": [],
   "source": [
    "nom=\"Guillem bagao\""
   ]
  },
  {
   "cell_type": "code",
   "execution_count": 119,
   "id": "194474e8",
   "metadata": {},
   "outputs": [],
   "source": [
    "primera_lletra=\"G\""
   ]
  },
  {
   "cell_type": "code",
   "execution_count": 120,
   "id": "83361e1a",
   "metadata": {},
   "outputs": [],
   "source": [
    "ultima_lletra=\"o\""
   ]
  },
  {
   "cell_type": "code",
   "execution_count": 128,
   "id": "d535499a",
   "metadata": {},
   "outputs": [
    {
     "data": {
      "text/plain": [
       "'uill'"
      ]
     },
     "execution_count": 128,
     "metadata": {},
     "output_type": "execute_result"
    }
   ],
   "source": [
    "nom[1:5]"
   ]
  },
  {
   "cell_type": "code",
   "execution_count": 150,
   "id": "e85b1d21",
   "metadata": {},
   "outputs": [],
   "source": [
    "tres_lletres=nom[1:5]"
   ]
  },
  {
   "cell_type": "code",
   "execution_count": 132,
   "id": "d1ed5085",
   "metadata": {},
   "outputs": [
    {
     "data": {
      "text/plain": [
       "'GUILLEMBAGAO'"
      ]
     },
     "execution_count": 132,
     "metadata": {},
     "output_type": "execute_result"
    }
   ],
   "source": [
    "nom.upper()"
   ]
  },
  {
   "cell_type": "code",
   "execution_count": 135,
   "id": "0f1696d5",
   "metadata": {},
   "outputs": [],
   "source": [
    "nom_M=nom.upper()"
   ]
  },
  {
   "cell_type": "code",
   "execution_count": 136,
   "id": "ac985356",
   "metadata": {},
   "outputs": [
    {
     "data": {
      "text/plain": [
       "'GUILLEMBAGAO'"
      ]
     },
     "execution_count": 136,
     "metadata": {},
     "output_type": "execute_result"
    }
   ],
   "source": [
    "nom_M"
   ]
  },
  {
   "cell_type": "code",
   "execution_count": 137,
   "id": "60ca9daa",
   "metadata": {},
   "outputs": [
    {
     "data": {
      "text/plain": [
       "'guillembagao'"
      ]
     },
     "execution_count": 137,
     "metadata": {},
     "output_type": "execute_result"
    }
   ],
   "source": [
    "nom.lower()"
   ]
  },
  {
   "cell_type": "code",
   "execution_count": 138,
   "id": "a279dc6c",
   "metadata": {},
   "outputs": [],
   "source": [
    "nom_m=nom.lower()"
   ]
  },
  {
   "cell_type": "code",
   "execution_count": 139,
   "id": "67034a5a",
   "metadata": {},
   "outputs": [
    {
     "data": {
      "text/plain": [
       "'guillembagao'"
      ]
     },
     "execution_count": 139,
     "metadata": {},
     "output_type": "execute_result"
    }
   ],
   "source": [
    "nom_m"
   ]
  },
  {
   "cell_type": "code",
   "execution_count": 140,
   "id": "5fccd669",
   "metadata": {},
   "outputs": [
    {
     "data": {
      "text/plain": [
       "12"
      ]
     },
     "execution_count": 140,
     "metadata": {},
     "output_type": "execute_result"
    }
   ],
   "source": [
    "len(nom)"
   ]
  },
  {
   "cell_type": "code",
   "execution_count": 153,
   "id": "7684bd17",
   "metadata": {},
   "outputs": [],
   "source": [
    "llargada_nom=len(nom)"
   ]
  },
  {
   "cell_type": "code",
   "execution_count": 154,
   "id": "0128e1ec",
   "metadata": {},
   "outputs": [
    {
     "data": {
      "text/plain": [
       "13"
      ]
     },
     "execution_count": 154,
     "metadata": {},
     "output_type": "execute_result"
    }
   ],
   "source": [
    "llargada_nom"
   ]
  },
  {
   "cell_type": "code",
   "execution_count": 157,
   "id": "61db09b6",
   "metadata": {},
   "outputs": [
    {
     "name": "stdout",
     "output_type": "stream",
     "text": [
      "Hola,el meu nom és Guillem bagao.\n",
      "La primera lletra del meu nom és G.\n",
      "L'última lletra del meu nom és o.\n",
      "Els tres caràcters entra la pos. 2 i 5 són: uill\n",
      "El meu nom, amb espais té 13\n",
      "El meu nom amb majus. es veu així:GUILLEMBAGAO \n",
      "El meu nom amb minus. es veu així:guillembagao\n"
     ]
    }
   ],
   "source": [
    "print(f\"Hola,el meu nom és {nom}.\") \n",
    "print(f\"La primera lletra del meu nom és {primera_lletra}.\")\n",
    "print(f\"L'última lletra del meu nom és {ultima_lletra}.\")\n",
    "print(f\"Els tres caràcters entra la pos. 2 i 5 són: {tres_lletres}\")\n",
    "print(f\"El meu nom, amb espais té {llargada_nom}\")\n",
    "print(f\"El meu nom amb majus. es veu així:{nom_M} \")\n",
    "print(f\"El meu nom amb minus. es veu així:{nom_m}\")"
   ]
  }
 ],
 "metadata": {
  "kernelspec": {
   "display_name": "Python 3",
   "language": "python",
   "name": "python3"
  },
  "language_info": {
   "codemirror_mode": {
    "name": "ipython",
    "version": 3
   },
   "file_extension": ".py",
   "mimetype": "text/x-python",
   "name": "python",
   "nbconvert_exporter": "python",
   "pygments_lexer": "ipython3",
   "version": "3.13.7"
  }
 },
 "nbformat": 4,
 "nbformat_minor": 5
}
